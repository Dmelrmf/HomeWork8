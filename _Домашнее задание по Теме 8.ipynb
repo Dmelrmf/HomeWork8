{
 "cells": [
  {
   "cell_type": "markdown",
   "id": "1c5cd20d",
   "metadata": {},
   "source": [
    "### Задание 1"
   ]
  },
  {
   "cell_type": "code",
   "execution_count": 2,
   "id": "aae32a5f",
   "metadata": {},
   "outputs": [],
   "source": [
    "import re"
   ]
  },
  {
   "cell_type": "code",
   "execution_count": 3,
   "id": "664e0006",
   "metadata": {},
   "outputs": [],
   "source": [
    "def car_num(car_id):\n",
    "  \n",
    "    valid = re.findall(r'([АВЕКМНОРСТУХ]\\d{3}[АВЕКМНОРСТУХ]{2})(\\d{2,3})', car_id)\n",
    "    if valid:\n",
    "        print('Номер', car_id, 'валиден. Регион:',valid[0][1])\n",
    "    else:\n",
    "        print('Результат: Номер не валиден')"
   ]
  },
  {
   "cell_type": "code",
   "execution_count": 4,
   "id": "7fed0b4b",
   "metadata": {},
   "outputs": [
    {
     "name": "stdout",
     "output_type": "stream",
     "text": [
      "Номер А222ВС96 валиден. Регион: 96\n"
     ]
    }
   ],
   "source": [
    "car_num('А222ВС96')"
   ]
  },
  {
   "cell_type": "code",
   "execution_count": 5,
   "id": "0a7306b7",
   "metadata": {},
   "outputs": [
    {
     "name": "stdout",
     "output_type": "stream",
     "text": [
      "Результат: Номер не валиден\n"
     ]
    }
   ],
   "source": [
    "car_num('АБ22ВВ193')"
   ]
  },
  {
   "cell_type": "markdown",
   "id": "5ab7cf1b",
   "metadata": {},
   "source": [
    "### Задание 2"
   ]
  },
  {
   "cell_type": "code",
   "execution_count": 14,
   "id": "514bca40",
   "metadata": {},
   "outputs": [],
   "source": [
    "some_string = 'Напишите функцию функцию, которая будет будет будет будет удалять все все все все последовательные повторы слов из из из из заданной строки строки при помощи регулярных выражений'"
   ]
  },
  {
   "cell_type": "code",
   "execution_count": 15,
   "id": "418d71e5",
   "metadata": {},
   "outputs": [],
   "source": [
    "def del_repeat(some_string):\n",
    "   return re.sub(r'(\\w+)(\\s\\1)+', r'\\1', some_string)"
   ]
  },
  {
   "cell_type": "code",
   "execution_count": 16,
   "id": "9cb35776",
   "metadata": {},
   "outputs": [
    {
     "data": {
      "text/plain": [
       "'Напишите функцию, которая будет удалять все последовательные повторы слов из заданной строки при помощи регулярных выражений'"
      ]
     },
     "execution_count": 16,
     "metadata": {},
     "output_type": "execute_result"
    }
   ],
   "source": [
    "del_repeat(some_string)"
   ]
  }
 ],
 "metadata": {
  "kernelspec": {
   "display_name": "Python 3 (ipykernel)",
   "language": "python",
   "name": "python3"
  },
  "language_info": {
   "codemirror_mode": {
    "name": "ipython",
    "version": 3
   },
   "file_extension": ".py",
   "mimetype": "text/x-python",
   "name": "python",
   "nbconvert_exporter": "python",
   "pygments_lexer": "ipython3",
   "version": "3.9.12"
  }
 },
 "nbformat": 4,
 "nbformat_minor": 5
}
